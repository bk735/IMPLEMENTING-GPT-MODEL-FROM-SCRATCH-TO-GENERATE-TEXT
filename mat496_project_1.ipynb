{
  "nbformat": 4,
  "nbformat_minor": 0,
  "metadata": {
    "colab": {
      "provenance": [],
      "gpuType": "T4",
      "include_colab_link": true
    },
    "kernelspec": {
      "name": "python3",
      "display_name": "Python 3"
    },
    "language_info": {
      "name": "python"
    },
    "accelerator": "GPU"
  },
  "cells": [
    {
      "cell_type": "markdown",
      "metadata": {
        "id": "view-in-github",
        "colab_type": "text"
      },
      "source": [
        "<a href=\"https://colab.research.google.com/github/bk735/IMPLEMENTING-GPT-MODEL-FROM-SCRATCH-TO-GENERATE-TEXT/blob/main/mat496_project_1.ipynb\" target=\"_parent\"><img src=\"https://colab.research.google.com/assets/colab-badge.svg\" alt=\"Open In Colab\"/></a>"
      ]
    },
    {
      "cell_type": "code",
      "execution_count": null,
      "metadata": {
        "id": "NLQopQNQTUmc",
        "colab": {
          "base_uri": "https://localhost:8080/"
        },
        "outputId": "3816590e-e00c-4bd0-9ef4-f7e5e05ff235"
      },
      "outputs": [
        {
          "output_type": "stream",
          "name": "stdout",
          "text": [
            "Collecting tiktoken\n",
            "  Downloading tiktoken-0.9.0-cp311-cp311-manylinux_2_17_x86_64.manylinux2014_x86_64.whl.metadata (6.7 kB)\n",
            "Requirement already satisfied: regex>=2022.1.18 in /usr/local/lib/python3.11/dist-packages (from tiktoken) (2024.11.6)\n",
            "Requirement already satisfied: requests>=2.26.0 in /usr/local/lib/python3.11/dist-packages (from tiktoken) (2.32.3)\n",
            "Requirement already satisfied: charset-normalizer<4,>=2 in /usr/local/lib/python3.11/dist-packages (from requests>=2.26.0->tiktoken) (3.4.1)\n",
            "Requirement already satisfied: idna<4,>=2.5 in /usr/local/lib/python3.11/dist-packages (from requests>=2.26.0->tiktoken) (3.10)\n",
            "Requirement already satisfied: urllib3<3,>=1.21.1 in /usr/local/lib/python3.11/dist-packages (from requests>=2.26.0->tiktoken) (2.3.0)\n",
            "Requirement already satisfied: certifi>=2017.4.17 in /usr/local/lib/python3.11/dist-packages (from requests>=2.26.0->tiktoken) (2025.1.31)\n",
            "Downloading tiktoken-0.9.0-cp311-cp311-manylinux_2_17_x86_64.manylinux2014_x86_64.whl (1.2 MB)\n",
            "\u001b[?25l   \u001b[90m━━━━━━━━━━━━━━━━━━━━━━━━━━━━━━━━━━━━━━━━\u001b[0m \u001b[32m0.0/1.2 MB\u001b[0m \u001b[31m?\u001b[0m eta \u001b[36m-:--:--\u001b[0m\r\u001b[2K   \u001b[91m━━━━━━━━━━━━━━━━━━━━\u001b[0m\u001b[91m╸\u001b[0m\u001b[90m━━━━━━━━━━━━━━━━━━━\u001b[0m \u001b[32m0.6/1.2 MB\u001b[0m \u001b[31m19.1 MB/s\u001b[0m eta \u001b[36m0:00:01\u001b[0m\r\u001b[2K   \u001b[90m━━━━━━━━━━━━━━━━━━━━━━━━━━━━━━━━━━━━━━━━\u001b[0m \u001b[32m1.2/1.2 MB\u001b[0m \u001b[31m23.5 MB/s\u001b[0m eta \u001b[36m0:00:00\u001b[0m\n",
            "\u001b[?25hInstalling collected packages: tiktoken\n",
            "Successfully installed tiktoken-0.9.0\n"
          ]
        }
      ],
      "source": [
        "!pip install tiktoken"
      ]
    },
    {
      "cell_type": "code",
      "source": [
        "from importlib.metadata import version\n",
        "import tiktoken\n",
        "print(\"torch version:\", version(\"torch\"))\n",
        "print(\"tiktoken version:\", version(\"tiktoken\"))"
      ],
      "metadata": {
        "id": "35VfUjrIV2yg",
        "colab": {
          "base_uri": "https://localhost:8080/"
        },
        "outputId": "091518ec-542b-46ff-d9c3-18bcc1cb71ad"
      },
      "execution_count": null,
      "outputs": [
        {
          "output_type": "stream",
          "name": "stdout",
          "text": [
            "torch version: 2.6.0+cu124\n",
            "tiktoken version: 0.9.0\n"
          ]
        }
      ]
    },
    {
      "cell_type": "code",
      "source": [
        "import os\n",
        "import urllib.request\n",
        "\n",
        "file_path_1 = \"text_data_1.txt\"\n",
        "url = \"https://www.gutenberg.org/cache/epub/1342/pg1342.txt\"\n",
        "\n",
        "if not os.path.exists(file_path_1):\n",
        "    with urllib.request.urlopen(url) as response:\n",
        "        text_data_1 = response.read().decode('utf-8')\n",
        "    with open(file_path_1, \"w\", encoding=\"utf-8\") as file:\n",
        "        file.write(text_data_1)\n",
        "else:\n",
        "    with open(file_path_1, \"r\", encoding=\"utf-8\") as file:\n",
        "        text_data_1 = file.read()\n"
      ],
      "metadata": {
        "id": "N96d_qDb1KQG"
      },
      "execution_count": null,
      "outputs": []
    },
    {
      "cell_type": "code",
      "source": [
        "file_path_2 = \"text_data_2.txt\"\n",
        "url = \"https://www.gutenberg.org/cache/epub/1400/pg1400.txt\"\n",
        "\n",
        "if not os.path.exists(file_path_2):\n",
        "    with urllib.request.urlopen(url) as response:\n",
        "        text_data_2 = response.read().decode('utf-8')\n",
        "    with open(file_path_2, \"w\", encoding=\"utf-8\") as file:\n",
        "        file.write(text_data_2)\n",
        "else:\n",
        "    with open(file_path_2, \"r\", encoding=\"utf-8\") as file:\n",
        "        text_data_2 = file.read()"
      ],
      "metadata": {
        "id": "P-Dt_H0E1Pog"
      },
      "execution_count": null,
      "outputs": []
    },
    {
      "cell_type": "code",
      "source": [
        "dataset = text_data_1 + text_data_2\n",
        "assert(len(dataset) == len(text_data_1) + len(text_data_2))"
      ],
      "metadata": {
        "id": "67VIhQNa1t7U"
      },
      "execution_count": null,
      "outputs": []
    },
    {
      "cell_type": "code",
      "source": [
        "with open(\"final_dataset.txt\", \"w\", encoding = \"utf-8\") as file_1:\n",
        "    file_1.write(dataset)"
      ],
      "metadata": {
        "id": "5or2cgF-2G-a"
      },
      "execution_count": null,
      "outputs": []
    },
    {
      "cell_type": "code",
      "source": [
        "with open(\"final_dataset.txt\", \"r\", encoding = \"utf-8\") as data:\n",
        "  data = data.read()"
      ],
      "metadata": {
        "id": "_vkkbB5R2ICb"
      },
      "execution_count": null,
      "outputs": []
    },
    {
      "cell_type": "code",
      "source": [
        "tokenizer = tiktoken.get_encoding(\"gpt2\")\n",
        "total_characters = len(data)\n",
        "total_tokens = len(tokenizer.encode(data))\n",
        "print(\"Characters:\", total_characters)\n",
        "print(\"Tokens:\", total_tokens)"
      ],
      "metadata": {
        "id": "M89kVVTQTTE1",
        "colab": {
          "base_uri": "https://localhost:8080/"
        },
        "outputId": "221c86fa-9798-43f1-941f-14591ac4b561"
      },
      "execution_count": null,
      "outputs": [
        {
          "output_type": "stream",
          "name": "stdout",
          "text": [
            "Characters: 1762018\n",
            "Tokens: 480074\n"
          ]
        }
      ]
    },
    {
      "cell_type": "code",
      "source": [
        "GPT_CONFIG_124M = {\n",
        "    #the number of unique tokens that the model can recognize and generate.\n",
        "    \"vocabulary_size\": 50257,\n",
        "\n",
        "    #the maximum number of tokens the model can process in a single forward pass.\n",
        "    \"context_length\": 1024,\n",
        "\n",
        "    #the size of the vector space used to represent each token.\n",
        "    \"embd_dimension\": 768,\n",
        "\n",
        "    #the number of attention heads in each transformer layer.\n",
        "    \"n_heads\": 12,\n",
        "\n",
        "    #the number of transformer layers stacked on top of each other.\n",
        "    \"n_layers\": 12,\n",
        "\n",
        "    #the probability of randomly disabling neurons during training.\n",
        "    \"dropout_rate\": 0.1,\n",
        "\n",
        "    #indicates whether bias terms are included in the query, key, and value projections of the attention mechanism.\n",
        "    \"qkv_bias\": False\n",
        "}"
      ],
      "metadata": {
        "id": "oiuluGh-uRM7"
      },
      "execution_count": null,
      "outputs": []
    },
    {
      "cell_type": "code",
      "source": [
        "tokenizer = tiktoken.get_encoding(\"gpt2\")"
      ],
      "metadata": {
        "id": "V8qQhqoSYGCu"
      },
      "execution_count": null,
      "outputs": []
    },
    {
      "cell_type": "code",
      "source": [
        "import torch.nn as nn"
      ],
      "metadata": {
        "id": "EPWooqCwvImG"
      },
      "execution_count": null,
      "outputs": []
    },
    {
      "cell_type": "code",
      "source": [
        "class LayerNorm(nn.Module):\n",
        "    def __init__(self, emb_dim):\n",
        "        super().__init__()\n",
        "        self.eps = 1e-5\n",
        "        self.scale = nn.Parameter(torch.ones(emb_dim))\n",
        "        self.shift = nn.Parameter(torch.zeros(emb_dim))\n",
        "\n",
        "    def forward(self, x):\n",
        "        mean = x.mean(dim=-1, keepdim=True)\n",
        "        var = x.var(dim=-1, keepdim=True, unbiased=False)\n",
        "        norm_x = (x - mean) / torch.sqrt(var + self.eps)\n",
        "        return self.scale * norm_x + self.shift"
      ],
      "metadata": {
        "id": "0JA8mWq3uzQH"
      },
      "execution_count": null,
      "outputs": []
    },
    {
      "cell_type": "code",
      "source": [
        "#defines GELU function class\n",
        "class GELU(nn.Module):\n",
        "    def __init__(self):\n",
        "        super().__init__()\n",
        "\n",
        "    def forward(self, x):\n",
        "        return 0.5 * x * (1 + torch.tanh(\n",
        "            torch.sqrt(torch.tensor(2.0 / torch.pi)) *\n",
        "            (x + 0.044715 * torch.pow(x, 3))\n",
        "        ))"
      ],
      "metadata": {
        "id": "Ga8KR4T_vShO"
      },
      "execution_count": null,
      "outputs": []
    },
    {
      "cell_type": "code",
      "source": [
        "#defines feedforward as class\n",
        "class FeedForward(nn.Module):\n",
        "    def __init__(self, cfg):\n",
        "        super().__init__()\n",
        "        self.layers = nn.Sequential(\n",
        "            nn.Linear(cfg[\"embd_dimension\"], 4 * cfg[\"embd_dimension\"]),\n",
        "            GELU(),\n",
        "            nn.Linear(4 * cfg[\"embd_dimension\"], cfg[\"embd_dimension\"]),\n",
        "        )\n",
        "\n",
        "    def forward(self, x):\n",
        "        return self.layers(x)"
      ],
      "metadata": {
        "id": "nWyk4632vbkQ"
      },
      "execution_count": null,
      "outputs": []
    },
    {
      "cell_type": "code",
      "source": [
        "import torch.nn as nn"
      ],
      "metadata": {
        "id": "Hvkj-4xlp_wj"
      },
      "execution_count": null,
      "outputs": []
    },
    {
      "cell_type": "code",
      "source": [
        "class MultiHeadAttention(nn.Module):\n",
        "    def __init__(self, d_in, d_out, context_length, dropout, num_heads, qkv_bias=False):\n",
        "        super().__init__()\n",
        "        assert d_out % num_heads == 0, \"d_out must be divisible by num_heads\"\n",
        "\n",
        "        self.d_out = d_out\n",
        "        self.num_heads = num_heads\n",
        "        self.head_dim = d_out // num_heads  # Reduce the projection dim to match desired output dim\n",
        "\n",
        "        self.W_query = nn.Linear(d_in, d_out, bias=qkv_bias)\n",
        "        self.W_key = nn.Linear(d_in, d_out, bias=qkv_bias)\n",
        "        self.W_value = nn.Linear(d_in, d_out, bias=qkv_bias)\n",
        "        self.out_proj = nn.Linear(d_out, d_out)  # Linear layer to combine head outputs\n",
        "        self.dropout = nn.Dropout(dropout)\n",
        "        self.register_buffer('mask', torch.triu(torch.ones(context_length, context_length), diagonal=1))\n",
        "    def forward(self, x):\n",
        "        b, num_tokens, d_in = x.shape\n",
        "\n",
        "        keys = self.W_key(x)  # Shape: (b, num_tokens, d_out)\n",
        "        queries = self.W_query(x)\n",
        "        values = self.W_value(x)\n",
        "\n",
        "        # We implicitly split the matrix by adding a `num_heads` dimension\n",
        "        # Unroll last dim: (b, num_tokens, d_out) -> (b, num_tokens, num_heads, head_dim)\n",
        "        keys = keys.view(b, num_tokens, self.num_heads, self.head_dim)\n",
        "        values = values.view(b, num_tokens, self.num_heads, self.head_dim)\n",
        "        queries = queries.view(b, num_tokens, self.num_heads, self.head_dim)\n",
        "        keys = keys.transpose(1, 2)\n",
        "        queries = queries.transpose(1, 2)\n",
        "        values = values.transpose(1, 2)\n",
        "        attn_scores = queries @ keys.transpose(2, 3)  # Dot product for each head\n",
        "\n",
        "        # Original mask truncated to the number of tokens and converted to boolean\n",
        "        mask_bool = self.mask.bool()[:num_tokens, :num_tokens]\n",
        "\n",
        "        # Use the mask to fill attention scores\n",
        "        attn_scores.masked_fill_(mask_bool, -torch.inf)\n",
        "\n",
        "        attn_weights = torch.softmax(attn_scores / keys.shape[-1]**0.5, dim=-1)\n",
        "        attn_weights = self.dropout(attn_weights)\n",
        "\n",
        "        # Shape: (b, num_tokens, num_heads, head_dim)\n",
        "        context_vec = (attn_weights @ values).transpose(1, 2)\n",
        "\n",
        "        # Combine heads, where self.d_out = self.num_heads * self.head_dim\n",
        "        context_vec = context_vec.contiguous().view(b, num_tokens, self.d_out)\n",
        "        context_vec = self.out_proj(context_vec)  # optional projection\n",
        "\n",
        "        return context_vec"
      ],
      "metadata": {
        "id": "RBlJFawIoq-V"
      },
      "execution_count": null,
      "outputs": []
    },
    {
      "cell_type": "code",
      "source": [
        "class TransformerBlock(nn.Module):\n",
        "    def __init__(self, cfg):\n",
        "        super().__init__()\n",
        "        self.att = MultiHeadAttention(\n",
        "            d_in=cfg[\"embd_dimension\"],\n",
        "            d_out=cfg[\"embd_dimension\"],\n",
        "            context_length=cfg[\"context_length\"],\n",
        "            num_heads=cfg[\"n_heads\"],\n",
        "            dropout=cfg[\"dropout_rate\"],\n",
        "            qkv_bias=cfg[\"qkv_bias\"])\n",
        "        self.ff = FeedForward(cfg)\n",
        "        self.norm1 = LayerNorm(cfg[\"embd_dimension\"])\n",
        "        self.norm2 = LayerNorm(cfg[\"embd_dimension\"])\n",
        "        self.drop_shortcut = nn.Dropout(cfg[\"dropout_rate\"])\n",
        "\n",
        "    def forward(self, x):\n",
        "        # Shortcut connection for attention block\n",
        "        shortcut = x\n",
        "        x = self.norm1(x)\n",
        "        x = self.att(x)  # Shape [batch_size, num_tokens, emb_size]\n",
        "        x = self.drop_shortcut(x)\n",
        "        x = x + shortcut  # Add the original input back\n",
        "\n",
        "        # Shortcut connection for feed forward block\n",
        "        shortcut = x\n",
        "        x = self.norm2(x)\n",
        "        x = self.ff(x)\n",
        "        x = self.drop_shortcut(x)\n",
        "        x = x + shortcut  # Add the original input back\n",
        "\n",
        "        return x"
      ],
      "metadata": {
        "id": "2U-xdcEpvxDQ"
      },
      "execution_count": null,
      "outputs": []
    },
    {
      "cell_type": "code",
      "source": [
        "class GPTModel(nn.Module):\n",
        "    def __init__(self, cfg):\n",
        "        super().__init__()\n",
        "        self.tok_emb = nn.Embedding(cfg[\"vocabulary_size\"], cfg[\"embd_dimension\"])\n",
        "        self.pos_emb = nn.Embedding(cfg[\"context_length\"], cfg[\"embd_dimension\"])\n",
        "        self.drop_emb = nn.Dropout(cfg[\"dropout_rate\"])\n",
        "\n",
        "        self.trf_blocks = nn.Sequential(\n",
        "            *[TransformerBlock(cfg) for _ in range(cfg[\"n_layers\"])])\n",
        "\n",
        "        self.final_norm = LayerNorm(cfg[\"embd_dimension\"])\n",
        "        self.out_head = nn.Linear(\n",
        "            cfg[\"embd_dimension\"], cfg[\"vocabulary_size\"], bias=False\n",
        "        )\n",
        "\n",
        "    def forward(self, in_idx):\n",
        "        batch_size, seq_len = in_idx.shape\n",
        "        tok_embeds = self.tok_emb(in_idx)\n",
        "        pos_embeds = self.pos_emb(torch.arange(seq_len, device=in_idx.device))\n",
        "        x = tok_embeds + pos_embeds  # Shape [batch_size, num_tokens, emb_size]\n",
        "        x = self.drop_emb(x)\n",
        "        x = self.trf_blocks(x)\n",
        "        x = self.final_norm(x)\n",
        "        logits = self.out_head(x)\n",
        "        return logits"
      ],
      "metadata": {
        "id": "H9U3oZJRwEGW"
      },
      "execution_count": null,
      "outputs": []
    },
    {
      "cell_type": "code",
      "source": [
        "def generate_text(model, idx, max_new_tokens, context_size):\n",
        "    for _ in range(max_new_tokens):\n",
        "        idx_cond = idx[:, -context_size:]\n",
        "        with torch.no_grad():\n",
        "            logits = model(idx_cond)\n",
        "\n",
        "        logits = logits[:, -1, :]\n",
        "        probas = torch.softmax(logits, dim=-1)\n",
        "        idx_next = torch.argmax(probas, dim=-1, keepdim=True)\n",
        "        idx = torch.cat((idx, idx_next), dim=1)\n",
        "\n",
        "    return idx"
      ],
      "metadata": {
        "id": "5nlkIqnqwZKS"
      },
      "execution_count": null,
      "outputs": []
    },
    {
      "cell_type": "code",
      "source": [
        "import torch.nn as nn\n",
        "import torch\n",
        "start_context = \"Hello, I am\"\n",
        "encoded = tokenizer.encode(start_context)\n",
        "print(\"encoded:\", encoded)\n",
        "encoded_tensor = torch.tensor(encoded).unsqueeze(0)\n",
        "print(\"encoded_tensor.shape:\", encoded_tensor.shape)"
      ],
      "metadata": {
        "id": "6J9Tltu7xk8b",
        "colab": {
          "base_uri": "https://localhost:8080/"
        },
        "outputId": "919070c8-649f-4961-d825-34f2c4caaa2e"
      },
      "execution_count": null,
      "outputs": [
        {
          "output_type": "stream",
          "name": "stdout",
          "text": [
            "encoded: [15496, 11, 314, 716]\n",
            "encoded_tensor.shape: torch.Size([1, 4])\n"
          ]
        }
      ]
    },
    {
      "cell_type": "code",
      "source": [
        "model = GPTModel(GPT_CONFIG_124M)\n",
        "model.eval()\n",
        "out = generate_text(\n",
        "     model=model,\n",
        "     idx=encoded_tensor,\n",
        "     max_new_tokens=6,\n",
        "     context_size=GPT_CONFIG_124M[\"context_length\"]\n",
        ")\n",
        "print(\"Output:\", out)\n",
        "print(\"Output length:\", len(out[0]))"
      ],
      "metadata": {
        "id": "ERBHtrTgwh2Z",
        "colab": {
          "base_uri": "https://localhost:8080/"
        },
        "outputId": "bb5532b9-02ad-4a4c-811e-aa877cf66af1"
      },
      "execution_count": null,
      "outputs": [
        {
          "output_type": "stream",
          "name": "stdout",
          "text": [
            "Output: tensor([[15496,    11,   314,   716, 36411, 15645, 33738, 44060, 21533, 15265]])\n",
            "Output length: 10\n"
          ]
        }
      ]
    },
    {
      "cell_type": "code",
      "source": [
        "import tiktoken\n",
        "def text_to_token_ids(text, tokenizer):\n",
        "    encoded = tokenizer.encode(text, allowed_special = {'<|endoftext|>'})\n",
        "    encoded_tensor = torch.tensor(encoded).unsqueeze(0)\n",
        "    return encoded_tensor\n",
        "\n",
        "def token_ids_to_text(token_ids, tokenizer):\n",
        "    flat = token_ids.squeeze(0)\n",
        "    return tokenizer.decode(flat.tolist())\n",
        "\n",
        "start_context = \"Every effort moves you\"\n",
        "tokenizer = tiktoken.get_encoding(\"gpt2\")\n",
        "\n",
        "token_ids = generate_text(\n",
        "    model = model,\n",
        "    idx = text_to_token_ids(start_context, tokenizer),\n",
        "    max_new_tokens = 10,\n",
        "    context_size = GPT_CONFIG_124M[\"context_length\"]\n",
        ")\n",
        "\n",
        "print(\"Output text: \\n\", token_ids_to_text(token_ids, tokenizer))"
      ],
      "metadata": {
        "id": "XHfdPxM30QQo",
        "colab": {
          "base_uri": "https://localhost:8080/"
        },
        "outputId": "b932dd83-7bd6-4f81-d420-49274aab25a1"
      },
      "execution_count": null,
      "outputs": [
        {
          "output_type": "stream",
          "name": "stdout",
          "text": [
            "Output text: \n",
            " Every effort moves you vote spew phosph 37xi meth GravesRussell pumpedGrey\n"
          ]
        }
      ]
    },
    {
      "cell_type": "code",
      "source": [
        "raw_text = data\n",
        "total_characters = len(raw_text)\n",
        "total_tokens = len(tokenizer.encode(raw_text))\n",
        "print(\"Characters:\", total_characters)\n",
        "print(\"Tokens:\", total_tokens)"
      ],
      "metadata": {
        "id": "cFbx8n-X0XEb",
        "colab": {
          "base_uri": "https://localhost:8080/"
        },
        "outputId": "359c23d7-3aea-4af0-a9bf-7979d407b10a"
      },
      "execution_count": null,
      "outputs": [
        {
          "output_type": "stream",
          "name": "stdout",
          "text": [
            "Characters: 1762018\n",
            "Tokens: 480074\n"
          ]
        }
      ]
    },
    {
      "cell_type": "code",
      "source": [
        "#using 90% data as training set and 10% as testing set\n",
        "train_ratio = 0.90\n",
        "#calculate the index where you will be splitting your data\n",
        "split_idx = int(train_ratio * len(data))\n",
        "train_data = data[:split_idx]\n",
        "val_data = data[split_idx:]"
      ],
      "metadata": {
        "id": "eZSks5_V0mLs"
      },
      "execution_count": null,
      "outputs": []
    },
    {
      "cell_type": "code",
      "source": [
        "import torch\n",
        "from torch.utils.data import Dataset, DataLoader\n",
        "class GPTDatasetV1(Dataset):\n",
        "     def __init__(self, txt, tokenizer, max_length, stride):\n",
        "         self.input_ids = []\n",
        "         self.target_ids = []\n",
        "\n",
        "         token_ids = tokenizer.encode(txt)\n",
        "\n",
        "         for i in range(0, len(token_ids) - max_length, stride):\n",
        "             input_chunk = token_ids[i:i + max_length]\n",
        "             target_chunk = token_ids[i + 1: i + max_length + 1]\n",
        "             self.input_ids.append(torch.tensor(input_chunk))\n",
        "             self.target_ids.append(torch.tensor(target_chunk))\n",
        "\n",
        "     def __len__(self):\n",
        "        return len(self.input_ids)\n",
        "\n",
        "     def __getitem__(self, idx):\n",
        "        return self.input_ids[idx], self.target_ids[idx]"
      ],
      "metadata": {
        "id": "73u7glRU0sp1"
      },
      "execution_count": null,
      "outputs": []
    },
    {
      "cell_type": "code",
      "source": [
        "def create_dataloader_v1(txt, batch_size=4, max_length=256,\n",
        "                         stride=128, shuffle=True, drop_last=True,\n",
        "                         num_workers=0):\n",
        "    tokenizer = tiktoken.get_encoding(\"gpt2\")\n",
        "    dataset = GPTDatasetV1(txt, tokenizer, max_length, stride)\n",
        "    dataloader = DataLoader(\n",
        "        dataset,\n",
        "        batch_size=batch_size,\n",
        "        shuffle=shuffle,\n",
        "        drop_last=drop_last,\n",
        "        num_workers=num_workers\n",
        " )\n",
        "\n",
        "    return dataloader"
      ],
      "metadata": {
        "id": "T29HS8SD0uMg"
      },
      "execution_count": null,
      "outputs": []
    },
    {
      "cell_type": "code",
      "source": [
        "train_loader = create_dataloader_v1(\n",
        "     train_data,\n",
        "     batch_size=4,\n",
        "     max_length=GPT_CONFIG_124M[\"context_length\"],\n",
        "     stride=GPT_CONFIG_124M[\"context_length\"],\n",
        "     drop_last=True,\n",
        "     shuffle=True,\n",
        "     num_workers=0\n",
        ")\n",
        "\n",
        "\n",
        "val_loader = create_dataloader_v1(\n",
        "     val_data,\n",
        "     batch_size=4,\n",
        "     max_length=GPT_CONFIG_124M[\"context_length\"],\n",
        "     stride=GPT_CONFIG_124M[\"context_length\"],\n",
        "     drop_last=False,\n",
        "     shuffle=False,\n",
        "     num_workers=0\n",
        ")"
      ],
      "metadata": {
        "id": "4I9Pqydn1C6v"
      },
      "execution_count": null,
      "outputs": []
    },
    {
      "cell_type": "code",
      "source": [
        "def calc_loss_batch(input_batch, target_batch, model, device):\n",
        "     input_batch = input_batch.to(device)\n",
        "     target_batch = target_batch.to(device)\n",
        "     logits = model(input_batch)\n",
        "     loss = torch.nn.functional.cross_entropy(\n",
        "         logits.flatten(0, 1), target_batch.flatten()\n",
        "     )\n",
        "     return loss"
      ],
      "metadata": {
        "id": "e6yfsI3ECux8"
      },
      "execution_count": null,
      "outputs": []
    },
    {
      "cell_type": "code",
      "source": [
        "def calc_loss_loader(data_loader, model, device, num_batches=None):\n",
        "     total_loss = 0.\n",
        "     if len(data_loader) == 0:\n",
        "         return float(\"nan\")\n",
        "     elif num_batches is None:\n",
        "         num_batches = len(data_loader)\n",
        "     else:\n",
        "         num_batches = min(num_batches, len(data_loader))\n",
        "     for i, (input_batch, target_batch) in enumerate(data_loader):\n",
        "         if i < num_batches:\n",
        "             loss = calc_loss_batch(\n",
        "                 input_batch, target_batch, model, device\n",
        "             )\n",
        "             total_loss += loss.item()\n",
        "         else:\n",
        "             break\n",
        "     return total_loss / num_batches"
      ],
      "metadata": {
        "id": "-zIMujslIBJ7"
      },
      "execution_count": null,
      "outputs": []
    },
    {
      "cell_type": "code",
      "source": [
        "device = torch.device(\"cuda\" if torch.cuda.is_available() else \"cpu\")\n",
        "model.to(device)\n",
        "with torch.no_grad():\n",
        "    train_loss = calc_loss_loader(train_loader, model, device)\n",
        "    val_loss = calc_loss_loader(val_loader, model, device)\n",
        "print(\"Training loss:\", train_loss)\n",
        "print(\"Validation loss:\", val_loss)"
      ],
      "metadata": {
        "id": "3qdbpTtRIV1d",
        "colab": {
          "base_uri": "https://localhost:8080/"
        },
        "outputId": "41f97924-30c4-4a1d-cd3f-819a81547b9c"
      },
      "execution_count": null,
      "outputs": [
        {
          "output_type": "stream",
          "name": "stdout",
          "text": [
            "Training loss: 11.01148034050351\n",
            "Validation loss: 11.00675638516744\n"
          ]
        }
      ]
    },
    {
      "cell_type": "markdown",
      "source": [],
      "metadata": {
        "id": "EuBDYZ2zW80t"
      }
    },
    {
      "cell_type": "code",
      "source": [
        "def train_model_simple(model, train_loader, val_loader,\n",
        "                       optimizer, device, num_epochs,\n",
        "                       eval_freq, eval_iter, start_context, tokenizer):\n",
        "    train_losses, val_losses, track_tokens_seen = [], [], []\n",
        "    tokens_seen, global_step = 0, -1\n",
        "\n",
        "    for epoch in range(num_epochs):\n",
        "        model.train()\n",
        "        for input_batch, target_batch in train_loader:\n",
        "            optimizer.zero_grad()\n",
        "            loss = calc_loss_batch(\n",
        "                input_batch, target_batch, model, device\n",
        "            )\n",
        "            loss.backward()\n",
        "            optimizer.step()\n",
        "            tokens_seen += input_batch.numel()\n",
        "            global_step += 1\n",
        "\n",
        "            if global_step % eval_freq == 0:\n",
        "                train_loss, val_loss = evaluate_model(\n",
        "                    model, train_loader, val_loader, device, eval_iter)\n",
        "\n",
        "                train_losses.append(train_loss)\n",
        "                val_losses.append(val_loss)\n",
        "                track_tokens_seen.append(tokens_seen)\n",
        "\n",
        "                print(f\"Ep {epoch+1} (Step {global_step:06d}): \"\n",
        "                      f\"Train loss {train_loss:.3f}, \"\n",
        "                      f\"Val loss {val_loss:.3f}\"\n",
        "                )\n",
        "\n",
        "        generate_and_print_sample(\n",
        "            model, tokenizer, device, start_context\n",
        "        )\n",
        "    return train_losses, val_losses, track_tokens_seen"
      ],
      "metadata": {
        "id": "dWC0N_OWI4A_"
      },
      "execution_count": null,
      "outputs": []
    },
    {
      "cell_type": "code",
      "source": [
        "def evaluate_model(model, train_loader, val_loader, device, eval_iter):\n",
        "    model.eval()\n",
        "    with torch.no_grad():\n",
        "        train_loss = calc_loss_loader(train_loader, model, device, num_batches=eval_iter)\n",
        "        val_loss = calc_loss_loader(val_loader, model, device, num_batches=eval_iter)\n",
        "    model.train()\n",
        "    return train_loss, val_loss\n",
        "\n"
      ],
      "metadata": {
        "id": "U13cibgqI_Ce"
      },
      "execution_count": null,
      "outputs": []
    },
    {
      "cell_type": "code",
      "source": [
        "def generate_and_print_sample(model, tokenizer, device, start_context):\n",
        "    model.eval()\n",
        "    context_size = model.pos_emb.weight.shape[0]\n",
        "    encoded = text_to_token_ids(start_context, tokenizer).to(device)\n",
        "    with torch.no_grad():\n",
        "        token_ids = generate_text(\n",
        "            model=model, idx=encoded,\n",
        "            max_new_tokens=50, context_size=context_size\n",
        "        )\n",
        "    decoded_text = token_ids_to_text(token_ids, tokenizer)\n",
        "    print(decoded_text.replace(\"\\n\", \" \"))  # Compact print format\n",
        "    model.train()"
      ],
      "metadata": {
        "id": "obz0m2i_JERZ"
      },
      "execution_count": null,
      "outputs": []
    },
    {
      "cell_type": "code",
      "source": [
        "torch.manual_seed(123)\n",
        "model = GPTModel(GPT_CONFIG_124M)\n",
        "model.to(device)\n",
        "optimizer = torch.optim.AdamW(model.parameters(), lr=0.00001, weight_decay=0.1)\n",
        "\n",
        "num_epochs = 5\n",
        "train_losses, val_losses, tokens_seen = train_model_simple(\n",
        "    model, train_loader, val_loader, optimizer, device,\n",
        "    num_epochs=num_epochs, eval_freq=5, eval_iter=5,\n",
        "    start_context=\"The work is mysterious and important\", tokenizer=tokenizer\n",
        ")\n"
      ],
      "metadata": {
        "id": "5ZMuVRTwJycZ",
        "collapsed": true,
        "colab": {
          "base_uri": "https://localhost:8080/"
        },
        "outputId": "0eee9584-6c25-4f1f-dea6-2b946745defb"
      },
      "execution_count": null,
      "outputs": [
        {
          "output_type": "stream",
          "name": "stdout",
          "text": [
            "Ep 1 (Step 000000): Train loss 10.838, Val loss 10.854\n",
            "Ep 1 (Step 000005): Train loss 10.119, Val loss 10.154\n",
            "Ep 1 (Step 000010): Train loss 9.610, Val loss 9.598\n",
            "Ep 1 (Step 000015): Train loss 9.258, Val loss 9.278\n",
            "Ep 1 (Step 000020): Train loss 9.087, Val loss 9.070\n",
            "Ep 1 (Step 000025): Train loss 8.922, Val loss 8.911\n",
            "Ep 1 (Step 000030): Train loss 8.740, Val loss 8.786\n",
            "Ep 1 (Step 000035): Train loss 8.652, Val loss 8.665\n",
            "Ep 1 (Step 000040): Train loss 8.500, Val loss 8.547\n",
            "Ep 1 (Step 000045): Train loss 8.448, Val loss 8.437\n",
            "Ep 1 (Step 000050): Train loss 8.203, Val loss 8.328\n",
            "Ep 1 (Step 000055): Train loss 8.201, Val loss 8.219\n",
            "Ep 1 (Step 000060): Train loss 7.985, Val loss 8.113\n",
            "Ep 1 (Step 000065): Train loss 7.964, Val loss 8.019\n",
            "Ep 1 (Step 000070): Train loss 7.886, Val loss 7.944\n",
            "Ep 1 (Step 000075): Train loss 7.823, Val loss 7.880\n",
            "Ep 1 (Step 000080): Train loss 7.702, Val loss 7.763\n",
            "Ep 1 (Step 000085): Train loss 7.408, Val loss 7.648\n",
            "Ep 1 (Step 000090): Train loss 7.555, Val loss 7.560\n",
            "Ep 1 (Step 000095): Train loss 7.469, Val loss 7.476\n",
            "Ep 1 (Step 000100): Train loss 7.385, Val loss 7.392\n",
            "The work is mysterious and important                                                  \n",
            "Ep 2 (Step 000105): Train loss 7.292, Val loss 7.317\n",
            "Ep 2 (Step 000110): Train loss 6.987, Val loss 7.250\n",
            "Ep 2 (Step 000115): Train loss 7.006, Val loss 7.179\n",
            "Ep 2 (Step 000120): Train loss 7.072, Val loss 7.113\n",
            "Ep 2 (Step 000125): Train loss 6.703, Val loss 7.049\n",
            "Ep 2 (Step 000130): Train loss 6.644, Val loss 6.989\n",
            "Ep 2 (Step 000135): Train loss 6.913, Val loss 6.933\n",
            "Ep 2 (Step 000140): Train loss 6.762, Val loss 6.879\n",
            "Ep 2 (Step 000145): Train loss 6.708, Val loss 6.830\n",
            "Ep 2 (Step 000150): Train loss 6.668, Val loss 6.781\n",
            "Ep 2 (Step 000155): Train loss 6.186, Val loss 6.735\n",
            "Ep 2 (Step 000160): Train loss 6.589, Val loss 6.695\n",
            "Ep 2 (Step 000165): Train loss 6.549, Val loss 6.658\n",
            "Ep 2 (Step 000170): Train loss 6.578, Val loss 6.619\n",
            "Ep 2 (Step 000175): Train loss 6.392, Val loss 6.582\n",
            "Ep 2 (Step 000180): Train loss 6.449, Val loss 6.544\n",
            "Ep 2 (Step 000185): Train loss 6.339, Val loss 6.509\n",
            "Ep 2 (Step 000190): Train loss 6.381, Val loss 6.478\n",
            "Ep 2 (Step 000195): Train loss 6.330, Val loss 6.449\n",
            "Ep 2 (Step 000200): Train loss 6.326, Val loss 6.420\n",
            "Ep 2 (Step 000205): Train loss 6.307, Val loss 6.390\n",
            "The work is mysterious and important                                                  \n",
            "Ep 3 (Step 000210): Train loss 6.287, Val loss 6.361\n",
            "Ep 3 (Step 000215): Train loss 6.196, Val loss 6.337\n",
            "Ep 3 (Step 000220): Train loss 6.218, Val loss 6.319\n",
            "Ep 3 (Step 000225): Train loss 6.066, Val loss 6.302\n",
            "Ep 3 (Step 000230): Train loss 6.147, Val loss 6.284\n",
            "Ep 3 (Step 000235): Train loss 6.175, Val loss 6.265\n",
            "Ep 3 (Step 000240): Train loss 6.044, Val loss 6.243\n",
            "Ep 3 (Step 000245): Train loss 6.101, Val loss 6.222\n",
            "Ep 3 (Step 000250): Train loss 6.069, Val loss 6.204\n",
            "Ep 3 (Step 000255): Train loss 6.101, Val loss 6.190\n",
            "Ep 3 (Step 000260): Train loss 5.994, Val loss 6.179\n",
            "Ep 3 (Step 000265): Train loss 6.088, Val loss 6.161\n",
            "Ep 3 (Step 000270): Train loss 5.772, Val loss 6.146\n",
            "Ep 3 (Step 000275): Train loss 5.951, Val loss 6.131\n",
            "Ep 3 (Step 000280): Train loss 5.944, Val loss 6.116\n",
            "Ep 3 (Step 000285): Train loss 6.114, Val loss 6.104\n",
            "Ep 3 (Step 000290): Train loss 5.814, Val loss 6.092\n",
            "Ep 3 (Step 000295): Train loss 5.807, Val loss 6.079\n",
            "Ep 3 (Step 000300): Train loss 5.924, Val loss 6.067\n",
            "Ep 3 (Step 000305): Train loss 5.936, Val loss 6.059\n",
            "Ep 3 (Step 000310): Train loss 5.948, Val loss 6.050\n",
            "The work is mysterious and important          ” ” ” ” ” ” ” ” ” ” ” ” ” �\n",
            "Ep 4 (Step 000315): Train loss 5.806, Val loss 6.039\n",
            "Ep 4 (Step 000320): Train loss 5.806, Val loss 6.032\n",
            "Ep 4 (Step 000325): Train loss 5.940, Val loss 6.020\n",
            "Ep 4 (Step 000330): Train loss 5.862, Val loss 6.010\n",
            "Ep 4 (Step 000335): Train loss 5.900, Val loss 5.999\n",
            "Ep 4 (Step 000340): Train loss 5.723, Val loss 5.990\n",
            "Ep 4 (Step 000345): Train loss 5.731, Val loss 5.982\n",
            "Ep 4 (Step 000350): Train loss 5.809, Val loss 5.973\n",
            "Ep 4 (Step 000355): Train loss 5.768, Val loss 5.964\n",
            "Ep 4 (Step 000360): Train loss 5.835, Val loss 5.957\n",
            "Ep 4 (Step 000365): Train loss 5.551, Val loss 5.950\n",
            "Ep 4 (Step 000370): Train loss 5.790, Val loss 5.942\n",
            "Ep 4 (Step 000375): Train loss 5.733, Val loss 5.932\n",
            "Ep 4 (Step 000380): Train loss 5.371, Val loss 5.924\n",
            "Ep 4 (Step 000385): Train loss 5.888, Val loss 5.914\n",
            "Ep 4 (Step 000390): Train loss 5.722, Val loss 5.907\n",
            "Ep 4 (Step 000395): Train loss 5.766, Val loss 5.908\n",
            "Ep 4 (Step 000400): Train loss 5.742, Val loss 5.904\n",
            "Ep 4 (Step 000405): Train loss 5.583, Val loss 5.893\n",
            "Ep 4 (Step 000410): Train loss 5.659, Val loss 5.879\n",
            "Ep 4 (Step 000415): Train loss 5.739, Val loss 5.870\n",
            "The work is mysterious and important, and     ” ” ” ” ” ” ” ” ” ” ” ” ” ” �\n",
            "Ep 5 (Step 000420): Train loss 5.401, Val loss 5.860\n",
            "Ep 5 (Step 000425): Train loss 5.782, Val loss 5.852\n",
            "Ep 5 (Step 000430): Train loss 5.703, Val loss 5.847\n",
            "Ep 5 (Step 000435): Train loss 5.626, Val loss 5.843\n",
            "Ep 5 (Step 000440): Train loss 5.661, Val loss 5.835\n",
            "Ep 5 (Step 000445): Train loss 5.640, Val loss 5.829\n",
            "Ep 5 (Step 000450): Train loss 5.583, Val loss 5.823\n",
            "Ep 5 (Step 000455): Train loss 5.700, Val loss 5.813\n",
            "Ep 5 (Step 000460): Train loss 5.680, Val loss 5.808\n",
            "Ep 5 (Step 000465): Train loss 5.677, Val loss 5.808\n",
            "Ep 5 (Step 000470): Train loss 5.620, Val loss 5.800\n",
            "Ep 5 (Step 000475): Train loss 5.407, Val loss 5.789\n",
            "Ep 5 (Step 000480): Train loss 5.625, Val loss 5.779\n",
            "Ep 5 (Step 000485): Train loss 5.619, Val loss 5.768\n",
            "Ep 5 (Step 000490): Train loss 5.478, Val loss 5.761\n",
            "Ep 5 (Step 000495): Train loss 5.416, Val loss 5.753\n",
            "Ep 5 (Step 000500): Train loss 5.533, Val loss 5.751\n",
            "Ep 5 (Step 000505): Train loss 5.331, Val loss 5.747\n",
            "Ep 5 (Step 000510): Train loss 5.373, Val loss 5.745\n",
            "Ep 5 (Step 000515): Train loss 5.496, Val loss 5.739\n",
            "Ep 5 (Step 000520): Train loss 5.458, Val loss 5.729\n",
            "The work is mysterious and important   ” ” ” ” ” ” ” ” ” ” ” ” ” ” ” ”\n"
          ]
        }
      ]
    },
    {
      "cell_type": "code",
      "source": [
        "import matplotlib.pyplot as plt\n",
        "from matplotlib.ticker import MaxNLocator\n",
        "def plot_losses(epochs_seen, tokens_seen, train_losses, val_losses):\n",
        "    fig, ax1 = plt.subplots(figsize=(5, 3))\n",
        "    ax1.plot(epochs_seen, train_losses, label=\"Training loss\")\n",
        "    ax1.plot(\n",
        "        epochs_seen, val_losses, linestyle=\"-.\", label=\"Validation loss\"\n",
        "    )\n",
        "    ax1.set_xlabel(\"Epochs\")\n",
        "    ax1.set_ylabel(\"Loss\")\n",
        "    ax1.legend(loc=\"upper right\")\n",
        "    ax1.xaxis.set_major_locator(MaxNLocator(integer=True))\n",
        "    ax2 = ax1.twiny()\n",
        "    ax2.plot(tokens_seen, train_losses, alpha=0)\n",
        "    ax2.set_xlabel(\"Tokens seen\")\n",
        "    fig.tight_layout()\n",
        "    plt.show()"
      ],
      "metadata": {
        "id": "WQ8mDEykXpWI"
      },
      "execution_count": null,
      "outputs": []
    },
    {
      "cell_type": "code",
      "source": [
        "epochs_tensor = torch.linspace(0, num_epochs, len(train_losses))\n",
        "plot_losses(epochs_tensor, tokens_seen, train_losses, val_losses)"
      ],
      "metadata": {
        "id": "NbERYpPaiCVg",
        "colab": {
          "base_uri": "https://localhost:8080/",
          "height": 307
        },
        "outputId": "e6431dd2-8b7f-419e-d71d-9e444ff9ca90"
      },
      "execution_count": null,
      "outputs": [
        {
          "output_type": "display_data",
          "data": {
            "text/plain": [
              "<Figure size 500x300 with 2 Axes>"
            ],
            "image/png": "[encoded data removed]"
          },
          "metadata": {}
        }
      ]
    },
    {
      "cell_type": "code",
      "source": [
        "def generate_fun(context):\n",
        "  generate_and_print_sample(model, tokenizer, device, context)\n"
      ],
      "metadata": {
        "id": "611GWIk2in0B"
      },
      "execution_count": null,
      "outputs": []
    },
    {
      "cell_type": "code",
      "source": [
        "context = input(\"Enter first context:\")\n",
        "generate_fun(context)"
      ],
      "metadata": {
        "colab": {
          "base_uri": "https://localhost:8080/"
        },
        "id": "WQcdheG3cyWw",
        "outputId": "7b677482-224e-4611-f1b1-bfc2aa989a13"
      },
      "execution_count": null,
      "outputs": [
        {
          "output_type": "stream",
          "name": "stdout",
          "text": [
            "Enter first context:pride and prejudice is wonderful movie\n",
            "pride and prejudice is wonderful movie, and    ” ” ” ” ” ” ” ” ” ” ” ” ” ” ”\n"
          ]
        }
      ]
    }
  ]
}